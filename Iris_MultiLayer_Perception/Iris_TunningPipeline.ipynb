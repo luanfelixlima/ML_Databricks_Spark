{
 "cells": [
  {
   "cell_type": "code",
   "execution_count": 0,
   "metadata": {
    "application/vnd.databricks.v1+cell": {
     "cellMetadata": {
      "byteLimit": 2048000,
      "rowLimit": 10000
     },
     "inputWidgets": {},
     "nuid": "67634263-6561-4e7b-a00a-e3711125277b",
     "showTitle": false,
     "title": ""
    }
   },
   "outputs": [],
   "source": [
    "iris = spark.read.csv(\"/FileStore/tables/iris.csv\",inferSchema=True, header=True)\n",
    "irisTreino, irisTeste = iris.randomSplit([0.7,0.3])"
   ]
  },
  {
   "cell_type": "code",
   "execution_count": 0,
   "metadata": {
    "application/vnd.databricks.v1+cell": {
     "cellMetadata": {
      "byteLimit": 2048000,
      "rowLimit": 10000
     },
     "inputWidgets": {},
     "nuid": "e938bcab-48bc-41fa-a640-fdfc7738a232",
     "showTitle": false,
     "title": ""
    }
   },
   "outputs": [],
   "source": [
    "from pyspark.ml.feature import VectorAssembler\n",
    "vector = VectorAssembler(inputCols=[\"SepalLengthCm\", \"SepalWidthCm\", \"PetalLengthCm\", \"PetalWidthCm\"], outputCol=\"independente\")"
   ]
  },
  {
   "cell_type": "code",
   "execution_count": 0,
   "metadata": {
    "application/vnd.databricks.v1+cell": {
     "cellMetadata": {
      "byteLimit": 2048000,
      "rowLimit": 10000
     },
     "inputWidgets": {},
     "nuid": "9f1f4fa8-c3b1-41ce-9268-d6767c6e00d3",
     "showTitle": false,
     "title": ""
    }
   },
   "outputs": [],
   "source": [
    "from pyspark.ml.feature import StringIndexer\n",
    "indexer = StringIndexer(inputCol=\"Species\", outputCol=\"label\")"
   ]
  },
  {
   "cell_type": "code",
   "execution_count": 0,
   "metadata": {
    "application/vnd.databricks.v1+cell": {
     "cellMetadata": {
      "byteLimit": 2048000,
      "rowLimit": 10000
     },
     "inputWidgets": {},
     "nuid": "1c708b36-f634-4bca-9b58-1d5fa3e031be",
     "showTitle": false,
     "title": ""
    }
   },
   "outputs": [],
   "source": [
    "from pyspark.ml.classification import MultilayerPerceptronClassifier\n",
    "mlp = MultilayerPerceptronClassifier(maxIter=100, layers=[4, 5, 4, 3], featuresCol=\"independente\", labelCol=\"label\")"
   ]
  },
  {
   "cell_type": "code",
   "execution_count": 0,
   "metadata": {
    "application/vnd.databricks.v1+cell": {
     "cellMetadata": {
      "byteLimit": 2048000,
      "rowLimit": 10000
     },
     "inputWidgets": {},
     "nuid": "8862334d-b6a8-4e84-9a5f-13b24eaf3b75",
     "showTitle": false,
     "title": ""
    }
   },
   "outputs": [],
   "source": [
    "from pyspark.ml import Pipeline\n",
    "pipeline = Pipeline(stages=[vector, indexer, mlp])"
   ]
  },
  {
   "cell_type": "code",
   "execution_count": 0,
   "metadata": {
    "application/vnd.databricks.v1+cell": {
     "cellMetadata": {
      "byteLimit": 2048000,
      "rowLimit": 10000
     },
     "inputWidgets": {},
     "nuid": "1a718b2b-dbe0-4111-aa05-74a41b40bef1",
     "showTitle": false,
     "title": ""
    }
   },
   "outputs": [],
   "source": [
    "from pyspark.ml.tuning import CrossValidator, ParamGridBuilder\n",
    "from pyspark.ml.evaluation import MulticlassClassificationEvaluator\n",
    "grid = ParamGridBuilder().addGrid(mlp.maxIter, [10, 100, 1000]).addGrid(mlp.layers, [[4, 5, 4, 3], [4, 4, 3]]).build()\n",
    "crossval = CrossValidator(estimator=pipeline,estimatorParamMaps=grid,evaluator=MulticlassClassificationEvaluator(),numFolds=3)  "
   ]
  },
  {
   "cell_type": "code",
   "execution_count": 0,
   "metadata": {
    "application/vnd.databricks.v1+cell": {
     "cellMetadata": {
      "byteLimit": 2048000,
      "rowLimit": 10000
     },
     "inputWidgets": {},
     "nuid": "2e32f53c-b22d-426c-a42e-f7f68938b6f4",
     "showTitle": false,
     "title": ""
    }
   },
   "outputs": [],
   "source": [
    "modelo = crossval.fit(irisTreino)"
   ]
  },
  {
   "cell_type": "code",
   "execution_count": 0,
   "metadata": {
    "application/vnd.databricks.v1+cell": {
     "cellMetadata": {
      "byteLimit": 2048000,
      "rowLimit": 10000
     },
     "inputWidgets": {},
     "nuid": "a8808137-284f-4c6f-a618-bc2ec9bbe60d",
     "showTitle": false,
     "title": ""
    }
   },
   "outputs": [
    {
     "output_type": "stream",
     "name": "stdout",
     "output_type": "stream",
     "text": [
      "+---+-------------+------------+-------------+------------+---------------+-----------------+-----+--------------------+--------------------+----------+\n| Id|SepalLengthCm|SepalWidthCm|PetalLengthCm|PetalWidthCm|        Species|     independente|label|       rawPrediction|         probability|prediction|\n+---+-------------+------------+-------------+------------+---------------+-----------------+-----+--------------------+--------------------+----------+\n|  3|          4.7|         3.2|          1.3|         0.2|    Iris-setosa|[4.7,3.2,1.3,0.2]|  0.0|[89.2222743954405...|[1.0,9.4490165666...|       0.0|\n|  5|          5.0|         3.6|          1.4|         0.2|    Iris-setosa|[5.0,3.6,1.4,0.2]|  0.0|[89.2480910142160...|[1.0,9.0988126910...|       0.0|\n| 11|          5.4|         3.7|          1.5|         0.2|    Iris-setosa|[5.4,3.7,1.5,0.2]|  0.0|[89.2504523921351...|[1.0,9.0674357625...|       0.0|\n| 13|          4.8|         3.0|          1.4|         0.1|    Iris-setosa|[4.8,3.0,1.4,0.1]|  0.0|[89.1997551435599...|[1.0,9.7654802214...|       0.0|\n| 15|          5.8|         4.0|          1.2|         0.2|    Iris-setosa|[5.8,4.0,1.2,0.2]|  0.0|[89.2632229252487...|[1.0,8.8996120847...|       0.0|\n| 22|          5.1|         3.7|          1.5|         0.4|    Iris-setosa|[5.1,3.7,1.5,0.4]|  0.0|[89.2514151990714...|[1.0,9.0546734905...|       0.0|\n| 32|          5.4|         3.4|          1.5|         0.4|    Iris-setosa|[5.4,3.4,1.5,0.4]|  0.0|[89.2291843056342...|[1.0,9.3539832658...|       0.0|\n| 33|          5.2|         4.1|          1.5|         0.1|    Iris-setosa|[5.2,4.1,1.5,0.1]|  0.0|[89.2681428056227...|[1.0,8.8357895850...|       0.0|\n| 34|          5.5|         4.2|          1.4|         0.2|    Iris-setosa|[5.5,4.2,1.4,0.2]|  0.0|[89.2700750884572...|[1.0,8.8108486631...|       0.0|\n| 37|          5.5|         3.5|          1.3|         0.2|    Iris-setosa|[5.5,3.5,1.3,0.2]|  0.0|[89.2387522950325...|[1.0,9.2239688071...|       0.0|\n| 38|          4.9|         3.1|          1.5|         0.1|    Iris-setosa|[4.9,3.1,1.5,0.1]|  0.0|[89.2086819753171...|[1.0,9.6387829486...|       0.0|\n| 41|          5.0|         3.5|          1.3|         0.3|    Iris-setosa|[5.0,3.5,1.3,0.3]|  0.0|[89.2421176524714...|[1.0,9.1786696077...|       0.0|\n| 45|          5.1|         3.8|          1.9|         0.4|    Iris-setosa|[5.1,3.8,1.9,0.4]|  0.0|[89.2260271582229...|[1.0,9.4409063006...|       0.0|\n| 48|          4.6|         3.2|          1.4|         0.2|    Iris-setosa|[4.6,3.2,1.4,0.2]|  0.0|[89.2223807824215...|[1.0,9.4475461140...|       0.0|\n| 50|          5.0|         3.3|          1.4|         0.2|    Iris-setosa|[5.0,3.3,1.4,0.2]|  0.0|[89.2270558920221...|[1.0,9.3831534075...|       0.0|\n| 51|          7.0|         3.2|          4.7|         1.4|Iris-versicolor|[7.0,3.2,4.7,1.4]|  2.0|[-35.712948832415...|[4.31295082219350...|       2.0|\n| 53|          6.9|         3.1|          4.9|         1.5|Iris-versicolor|[6.9,3.1,4.9,1.5]|  2.0|[-35.742687804108...|[4.17399186141963...|       2.0|\n| 54|          5.5|         2.3|          4.0|         1.3|Iris-versicolor|[5.5,2.3,4.0,1.3]|  2.0|[-35.940110665690...|[3.35840051314116...|       2.0|\n| 56|          5.7|         2.8|          4.5|         1.3|Iris-versicolor|[5.7,2.8,4.5,1.3]|  2.0|[-35.771536706695...|[4.04347137422355...|       2.0|\n| 59|          6.6|         2.9|          4.6|         1.3|Iris-versicolor|[6.6,2.9,4.6,1.3]|  2.0|[-35.776498281740...|[4.02143874993683...|       2.0|\n+---+-------------+------------+-------------+------------+---------------+-----------------+-----+--------------------+--------------------+----------+\nonly showing top 20 rows\n\n"
     ]
    }
   ],
   "source": [
    "previsao = modelo.transform(irisTeste)\n",
    "previsao.show()"
   ]
  },
  {
   "cell_type": "code",
   "execution_count": 0,
   "metadata": {
    "application/vnd.databricks.v1+cell": {
     "cellMetadata": {
      "byteLimit": 2048000,
      "rowLimit": 10000
     },
     "inputWidgets": {},
     "nuid": "af4726d7-b47d-4b92-9a97-a212903665fb",
     "showTitle": false,
     "title": ""
    }
   },
   "outputs": [
    {
     "output_type": "stream",
     "name": "stdout",
     "output_type": "stream",
     "text": [
      "0.9090909090909091\n"
     ]
    }
   ],
   "source": [
    "from pyspark.ml.evaluation import MulticlassClassificationEvaluator\n",
    "performance = MulticlassClassificationEvaluator(labelCol=\"label\", predictionCol=\"prediction\", metricName=\"accuracy\")\n",
    "acuracia = performance.evaluate(previsao)\n",
    "print(acuracia)"
   ]
  }
 ],
 "metadata": {
  "application/vnd.databricks.v1+notebook": {
   "dashboards": [],
   "environmentMetadata": null,
   "language": "python",
   "notebookMetadata": {
    "pythonIndentUnit": 4
   },
   "notebookName": "TunningPipeline",
   "widgets": {}
  },
  "kernelspec": {
   "display_name": "Python 3",
   "language": "python",
   "name": "python3"
  },
  "language_info": {
   "codemirror_mode": {
    "name": "ipython",
    "version": 3
   },
   "file_extension": ".py",
   "mimetype": "text/x-python",
   "name": "python",
   "nbconvert_exporter": "python",
   "pygments_lexer": "ipython3",
   "version": "3.8.8"
  }
 },
 "nbformat": 4,
 "nbformat_minor": 0
}
