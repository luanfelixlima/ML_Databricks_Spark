{
 "cells": [
  {
   "cell_type": "code",
   "execution_count": 0,
   "metadata": {
    "application/vnd.databricks.v1+cell": {
     "cellMetadata": {
      "byteLimit": 2048000,
      "rowLimit": 10000
     },
     "inputWidgets": {},
     "nuid": "22564f38-debb-4932-b129-6e6fd4c40b43",
     "showTitle": true,
     "title": "importação das bibliotecas"
    }
   },
   "outputs": [],
   "source": [
    "from pyspark.ml.regression import LinearRegression, RandomForestRegressor\n",
    "from pyspark.ml.evaluation import RegressionEvaluator\n",
    "from pyspark.ml.feature import VectorAssembler"
   ]
  },
  {
   "cell_type": "code",
   "execution_count": 0,
   "metadata": {
    "application/vnd.databricks.v1+cell": {
     "cellMetadata": {
      "byteLimit": 2048000,
      "rowLimit": 10000
     },
     "inputWidgets": {},
     "nuid": "dc52b895-ea64-4865-aeca-196c6e56d80b",
     "showTitle": true,
     "title": "importação dos dados"
    }
   },
   "outputs": [
    {
     "output_type": "stream",
     "name": "stdout",
     "output_type": "stream",
     "text": [
      "+-------+---------+-----------+---------------+----+-----+---------+-----------+-------+-----------+---+\n|Consumo|Cilindros|Cilindradas|RelEixoTraseiro|Peso|Tempo|TipoMotor|Transmissao|Marchas|Carburadors| HP|\n+-------+---------+-----------+---------------+----+-----+---------+-----------+-------+-----------+---+\n|     21|        6|        160|             39| 262| 1646|        0|          1|      4|          4|110|\n|     21|        6|        160|             39|2875| 1702|        0|          1|      4|          4|110|\n|    228|        4|        108|            385| 232| 1861|        1|          1|      4|          1| 93|\n|    214|        6|        258|            308|3215| 1944|        1|          0|      3|          1|110|\n|    187|        8|        360|            315| 344| 1702|        0|          0|      3|          2|175|\n+-------+---------+-----------+---------------+----+-----+---------+-----------+-------+-----------+---+\nonly showing top 5 rows\n\n"
     ]
    }
   ],
   "source": [
    "Carros_temp = spark.read.csv(\"/FileStore/tables/Carros.csv\",inferSchema=True, header=True, sep=\";\")\n",
    "Carros_temp.show(5)"
   ]
  },
  {
   "cell_type": "code",
   "execution_count": 0,
   "metadata": {
    "application/vnd.databricks.v1+cell": {
     "cellMetadata": {
      "byteLimit": 2048000,
      "rowLimit": 10000
     },
     "inputWidgets": {},
     "nuid": "a3fca0a8-08cd-42b9-811e-b6ecdc40bb45",
     "showTitle": true,
     "title": "separando colunas"
    }
   },
   "outputs": [
    {
     "output_type": "stream",
     "name": "stdout",
     "output_type": "stream",
     "text": [
      "+-------+---------+-----------+---+\n|Consumo|Cilindros|Cilindradas| HP|\n+-------+---------+-----------+---+\n|     21|        6|        160|110|\n|     21|        6|        160|110|\n|    228|        4|        108| 93|\n|    214|        6|        258|110|\n|    187|        8|        360|175|\n+-------+---------+-----------+---+\nonly showing top 5 rows\n\n"
     ]
    }
   ],
   "source": [
    "Carros = Carros_temp.select(\"Consumo\",\"Cilindros\",\"Cilindradas\",\"HP\")\n",
    "Carros.show(5)"
   ]
  },
  {
   "cell_type": "code",
   "execution_count": 0,
   "metadata": {
    "application/vnd.databricks.v1+cell": {
     "cellMetadata": {
      "byteLimit": 2048000,
      "rowLimit": 10000
     },
     "inputWidgets": {},
     "nuid": "d78cfb1b-876b-4a92-8264-9d5df0207efb",
     "showTitle": true,
     "title": "vetorizando os atributos"
    }
   },
   "outputs": [
    {
     "output_type": "stream",
     "name": "stdout",
     "output_type": "stream",
     "text": [
      "+-------+---------+-----------+---+-----------------+\n|Consumo|Cilindros|Cilindradas| HP|  caracteristicas|\n+-------+---------+-----------+---+-----------------+\n|     21|        6|        160|110| [21.0,6.0,160.0]|\n|     21|        6|        160|110| [21.0,6.0,160.0]|\n|    228|        4|        108| 93|[228.0,4.0,108.0]|\n|    214|        6|        258|110|[214.0,6.0,258.0]|\n|    187|        8|        360|175|[187.0,8.0,360.0]|\n+-------+---------+-----------+---+-----------------+\nonly showing top 5 rows\n\n"
     ]
    }
   ],
   "source": [
    "veccaracteristicas = VectorAssembler(inputCols=[(\"Consumo\"),(\"Cilindros\"),(\"Cilindradas\")],outputCol=\"caracteristicas\")\n",
    "Carros = veccaracteristicas.transform(Carros)\n",
    "Carros.show(5)"
   ]
  },
  {
   "cell_type": "code",
   "execution_count": 0,
   "metadata": {
    "application/vnd.databricks.v1+cell": {
     "cellMetadata": {
      "byteLimit": 2048000,
      "rowLimit": 10000
     },
     "inputWidgets": {},
     "nuid": "c413c428-f5e8-4d93-b9bf-fd479fd99dcb",
     "showTitle": true,
     "title": "dividindo dados de treino e teste"
    }
   },
   "outputs": [
    {
     "output_type": "stream",
     "name": "stdout",
     "output_type": "stream",
     "text": [
      "23\n9\n"
     ]
    }
   ],
   "source": [
    "CarrosTreino, CarrosTeste = Carros.randomSplit([0.7,0.3]) # treino = 70% / teste = 30%\n",
    "print(CarrosTreino.count())\n",
    "print(CarrosTeste.count())"
   ]
  },
  {
   "cell_type": "code",
   "execution_count": 0,
   "metadata": {
    "application/vnd.databricks.v1+cell": {
     "cellMetadata": {
      "byteLimit": 2048000,
      "rowLimit": 10000
     },
     "inputWidgets": {},
     "nuid": "7748da9c-02ad-4d61-a371-52ae987633c7",
     "showTitle": true,
     "title": "modelo"
    }
   },
   "outputs": [],
   "source": [
    "reglin = LinearRegression(featuresCol=\"caracteristicas\", labelCol=\"HP\")\n",
    "modelo = reglin.fit(CarrosTreino) # treinando o modelo"
   ]
  },
  {
   "cell_type": "code",
   "execution_count": 0,
   "metadata": {
    "application/vnd.databricks.v1+cell": {
     "cellMetadata": {
      "byteLimit": 2048000,
      "rowLimit": 10000
     },
     "inputWidgets": {},
     "nuid": "6a2eb0da-686a-423f-a6f2-1f6c60a75fb2",
     "showTitle": true,
     "title": "previsão"
    }
   },
   "outputs": [
    {
     "output_type": "stream",
     "name": "stdout",
     "output_type": "stream",
     "text": [
      "+-------+---------+-----------+---+------------------+------------------+\n|Consumo|Cilindros|Cilindradas| HP|   caracteristicas|        prediction|\n+-------+---------+-----------+---+------------------+------------------+\n|     21|        6|        160|110|  [21.0,6.0,160.0]| 173.2499822726199|\n|    143|        8|        360|245| [143.0,8.0,360.0]| 214.3958054670549|\n|    152|        8|        304|150| [152.0,8.0,304.0]| 213.5873218253566|\n|    152|        8|       2758|180|[152.0,8.0,2758.0]|192.33738818437982|\n|    192|        6|       1676|123|[192.0,6.0,1676.0]|135.54778705194138|\n+-------+---------+-----------+---+------------------+------------------+\nonly showing top 5 rows\n\n"
     ]
    }
   ],
   "source": [
    "previsao = modelo.transform(CarrosTeste)\n",
    "previsao.show(5)"
   ]
  },
  {
   "cell_type": "code",
   "execution_count": 0,
   "metadata": {
    "application/vnd.databricks.v1+cell": {
     "cellMetadata": {
      "byteLimit": 2048000,
      "rowLimit": 10000
     },
     "inputWidgets": {},
     "nuid": "84598cff-43a8-452c-b26d-38057063594b",
     "showTitle": true,
     "title": "Avaliando performance"
    }
   },
   "outputs": [
    {
     "output_type": "stream",
     "name": "stdout",
     "output_type": "stream",
     "text": [
      "34.84906884928061\n"
     ]
    }
   ],
   "source": [
    "avaliar = RegressionEvaluator(predictionCol=\"prediction\", labelCol=\"HP\",metricName='rmse')\n",
    "rmse = avaliar.evaluate(previsao)\n",
    "print(rmse)"
   ]
  },
  {
   "cell_type": "code",
   "execution_count": 0,
   "metadata": {
    "application/vnd.databricks.v1+cell": {
     "cellMetadata": {},
     "inputWidgets": {},
     "nuid": "4ee1f65a-42be-4428-a10f-d1d7584c6495",
     "showTitle": false,
     "title": ""
    }
   },
   "outputs": [],
   "source": []
  }
 ],
 "metadata": {
  "application/vnd.databricks.v1+notebook": {
   "dashboards": [],
   "environmentMetadata": null,
   "language": "python",
   "notebookMetadata": {
    "pythonIndentUnit": 2
   },
   "notebookName": "RegressaoLinear",
   "widgets": {}
  }
 },
 "nbformat": 4,
 "nbformat_minor": 0
}
